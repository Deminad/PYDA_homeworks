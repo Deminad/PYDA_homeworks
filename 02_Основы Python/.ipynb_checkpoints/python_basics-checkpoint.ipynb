{
 "cells": [
  {
   "cell_type": "markdown",
   "metadata": {},
   "source": [
    "**Задание 1**. Даны 2 строки: *long_phrase* и *short_phrase*. \n",
    "Напишите код, который проверяет действительно ли длинная фраза *long_phrase* длиннее короткой *short_phrase*. И выводит *True* или *False* в зависимости от результата сравнения."
   ]
  },
  {
   "cell_type": "code",
   "execution_count": 1,
   "metadata": {},
   "outputs": [],
   "source": [
    "long_phrase = 'Насколько проще было бы писать программы, если бы не заказчики'\n",
    "short_phrase = '640Кб должно хватить для любых задач. Билл Гейтс (по легенде)'"
   ]
  },
  {
   "cell_type": "code",
   "execution_count": 2,
   "metadata": {},
   "outputs": [
    {
     "data": {
      "text/plain": [
       "True"
      ]
     },
     "execution_count": 2,
     "metadata": {},
     "output_type": "execute_result"
    }
   ],
   "source": [
    "len(long_phrase)>len(short_phrase)"
   ]
  },
  {
   "cell_type": "markdown",
   "metadata": {},
   "source": [
    "**Задание 2**. Дано значение объема файла в байтах (*в мегабайте 2^20 байт*). Напишите перевод этого значения в мегабайты в формате: \"*Объем файла равен 213.68Mb*\"."
   ]
  },
  {
   "cell_type": "code",
   "execution_count": 6,
   "metadata": {},
   "outputs": [
    {
     "name": "stdout",
     "output_type": "stream",
     "text": [
      "Введите размер файла в байтах 1000000000\n",
      "Объем файла равен 953.67 Mb\n"
     ]
    }
   ],
   "source": [
    "file_size_b = int(input('Введите размер файла в байтах: '))\n",
    "file_size_Mb = round(file_size_b / 2**20, 2)\n",
    "print ('Объем файла равен', file_size_Mb,'Mb')"
   ]
  },
  {
   "cell_type": "markdown",
   "metadata": {},
   "source": [
    "**Задание 3**. Разработать приложение для определения знака зодиака по дате рождения. Пример:\n",
    "\n",
    "Введите месяц: март\n",
    "\n",
    "Введите число: 6\n",
    "\n",
    "Вывод:\n",
    "Рыбы"
   ]
  },
  {
   "cell_type": "code",
   "execution_count": 18,
   "metadata": {},
   "outputs": [
    {
     "name": "stdout",
     "output_type": "stream",
     "text": [
      "Введите месяц: январь\n",
      "Введите число: 21\n",
      "Ваш знак зодиака: Водолей\n"
     ]
    }
   ],
   "source": [
    "month = input('Введите месяц: ')\n",
    "date = int(input ('Введите число: '))\n",
    "\n",
    "if (month == 'декабрь' and 22 < date < 31) or (month == 'январь' and 1 < date < 19):\n",
    "    zodiac = 'Козерог'\n",
    "elif (month == 'январь' and 20 < date < 31) or (month == 'февраль' and 1 < date < 19):\n",
    "    zodiac = 'Водолей'\n",
    "elif (month == 'февраль' and 20 < date < 29) or (month == 'март' and 1 < date < 21):\n",
    "    zodiac = 'Рыбы' \n",
    "elif (month == 'март' and 22 < date < 31) or (month == 'апрель' and 1 < date < 21):\n",
    "    zodiac = 'Овен'\n",
    "elif (month == 'апрель' and 22 < date < 30) or (month == 'май' and 1 < date < 21):\n",
    "    zodiac = 'Телец'\n",
    "elif (month == 'май' and 22 < date < 31) or (month == 'июнь' and 1 < date < 21):\n",
    "    zodiac = 'Близнецы' \n",
    "elif (month == 'июнь' and 22 < date < 30) or (month == 'июль' and 1 < date < 21):\n",
    "    zodiac = 'Рак'\n",
    "elif (month == 'июль' and 22 < date < 31) or (month == 'август' and 1 < date < 21):\n",
    "    zodiac = 'Лев'\n",
    "elif (month == 'август' and 22 < date < 31) or (month == 'сентябрь' and 1 < date < 21):\n",
    "    zodiac = 'Дева'\n",
    "elif (month == 'сентябрь' and 22 < date < 30) or (month == 'октябрь' and 1 < date < 21):\n",
    "    zodiac = 'Весы'\n",
    "elif (month == 'октябрь' and 22 < date < 31) or (month == 'ноябрь' and 1 < date < 20):\n",
    "    zodiac = 'Скорпион'\n",
    "elif (month == 'ноябрь' and 21 < date < 30) or (month == 'декабрь' and 1 < date < 21):\n",
    "    zodiac = 'Стрелец'\n",
    "else:\n",
    "    zodiac = 'Дата введена неверно'\n",
    "print('Ваш знак зодиака:', zodiac)"
   ]
  },
  {
   "cell_type": "markdown",
   "metadata": {},
   "source": [
    "**Задание 4**. Нужно разработать приложение для финансового планирования.\n",
    "Приложение учитывает сколько уходит на ипотеку, \"на жизнь\" и сколько нужно отложить на пенсию.\n",
    "Пользователь вводит:\n",
    "- заработанную плату в месяц.\n",
    "- сколько процентов от ЗП уходит на ипотеку.\n",
    "- сколько процентов от ЗП уходит \"на жизнь\".\n",
    "- сколько раз приходит премия в год.\n",
    "\n",
    "Остальная часть заработанной платы откладывается на пенсию.\n",
    "\n",
    "Также пользователю приходит премия в размере зарплаты, от которой половина уходит на отпуск, а вторая половина откладывается.\n",
    "\n",
    "Программа должна учитывать сколько премий было в год.\n",
    "\n",
    "Нужно вывести сколько денег тратит пользователь на ипотеку и сколько он накопит за год.\n",
    "\n",
    "Пример:\n",
    "\n",
    "Введите заработанную плату в месяц: 100000\n",
    "\n",
    "Введите сколько процентов уходит на ипотеку: 30\n",
    "\n",
    "Введите сколько процентов уходит на жизнь: 50\n",
    "\n",
    "Введите количество премий за год: 2\n",
    "\n",
    "Вывод:\n",
    "На ипотеку было потрачено: 360000 рублей\n",
    "Было накоплено: 340000 рублей"
   ]
  },
  {
   "cell_type": "code",
   "execution_count": 17,
   "metadata": {},
   "outputs": [
    {
     "name": "stdout",
     "output_type": "stream",
     "text": [
      "Введите заработную плату в месяц: 100000\n",
      "Введите сколько проентов уходит на ипотеку: 30\n",
      "Введите сколько проентов уходит на ипотеку: 50\n",
      "Введите количество премий за год: 2\n",
      "\n",
      "Было накоплено: 340000.0 рублей\n",
      "\n",
      "Затраты:\n",
      "Ипотека 360000.0 рублей,\n",
      "Повседневные нужды 600000.0 рублей\n",
      "Отпуск 100000.0 рублей\n"
     ]
    }
   ],
   "source": [
    "salary = int(input('Введите заработную плату в месяц: '))\n",
    "per_mortgage_expense = int(input('Введите сколько проентов уходит на ипотеку: '))\n",
    "per_everyday_expense = int(input('Введите сколько проентов уходит на ипотеку: '))\n",
    "bonus_times = int(input('Введите количество премий за год: '))\n",
    "\n",
    "salary_year = salary * 12 #годовой доход\n",
    "per_saving = 100 - per_mortgage_expense - per_everyday_expense #процент который уходит на накопления\n",
    "\n",
    "# распредение годового дохода по статьям\n",
    "mortgage_expense = salary_year * per_mortgage_expense/100\n",
    "everyday_expense = salary_year * per_everyday_expense/100\n",
    "salary_saving = salary_year * per_saving/100\n",
    "\n",
    "# распределение премий\n",
    "bonus = bonus_times * salary\n",
    "vacation_expense = bonus * 0.5\n",
    "bonus_saving = bonus * 0.5\n",
    "\n",
    "total_saving = bonus_saving + salary_saving\n",
    "print('')\n",
    "print('Было накоплено:',total_saving,'рублей')\n",
    "print('')\n",
    "print('Затраты:')\n",
    "print('Ипотека', mortgage_expense, 'рублей,')\n",
    "print('Повседневные нужды',everyday_expense ,'рублей')\n",
    "print('Отпуск', vacation_expense, 'рублей')"
   ]
  },
  {
   "cell_type": "code",
   "execution_count": null,
   "metadata": {},
   "outputs": [],
   "source": []
  }
 ],
 "metadata": {
  "kernelspec": {
   "display_name": "Python 3",
   "language": "python",
   "name": "python3"
  },
  "language_info": {
   "codemirror_mode": {
    "name": "ipython",
    "version": 3
   },
   "file_extension": ".py",
   "mimetype": "text/x-python",
   "name": "python",
   "nbconvert_exporter": "python",
   "pygments_lexer": "ipython3",
   "version": "3.7.6"
  }
 },
 "nbformat": 4,
 "nbformat_minor": 2
}
