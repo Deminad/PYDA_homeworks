{
 "cells": [
  {
   "cell_type": "markdown",
   "metadata": {},
   "source": [
    "\n",
    "**Задача 1**. Дано слово из латинских букв. Напишите скрипт, который выводит на экран букву из середины слова (если число букв нечетное). Если букв четное число, то на экран выводятся две буквы из середины.  \n",
    "\n",
    "Пример: для 'test' должно выводится 'es', для 'testing' - 't'"
   ]
  },
  {
   "cell_type": "code",
   "execution_count": 26,
   "metadata": {},
   "outputs": [
    {
     "name": "stdout",
     "output_type": "stream",
     "text": [
      "Введите слово testing\n",
      "t\n"
     ]
    }
   ],
   "source": [
    "word = input('Введите слово ')\n",
    "mid_letter = int(len(word) / 2)\n",
    "if len(word) % 2 != 0:\n",
    "    print(word[mid_letter])\n",
    "else:\n",
    "    print(word[mid_letter - 1:mid_letter + 1])"
   ]
  },
  {
   "cell_type": "code",
   "execution_count": null,
   "metadata": {},
   "outputs": [],
   "source": []
  },
  {
   "cell_type": "markdown",
   "metadata": {},
   "source": [
    "**Задача 2**. Мы делаем MVP dating-сервиса, и у нас есть список парней и девушек (их число может варьироваться):"
   ]
  },
  {
   "cell_type": "code",
   "execution_count": 2,
   "metadata": {},
   "outputs": [
    {
     "name": "stdout",
     "output_type": "stream",
     "text": [
      "Идеальные пары:\n",
      "Alex и Emma\n",
      "Arthur и Kate\n",
      "John и Kira\n",
      "Peter и Liza\n",
      "Richard и Trisha\n"
     ]
    }
   ],
   "source": [
    "boys = ['Peter', 'Alex', 'John', 'Arthur', 'Richard']\n",
    "girls = ['Kate', 'Liza', 'Kira', 'Emma', 'Trisha']\n",
    "\n",
    "couples = zip(sorted(boys), sorted(girls))\n",
    "if len(boys) == len(girls):\n",
    "    print('Идеальные пары:')\n",
    "    for couple in couples:\n",
    "        print(f'{couple[0]} и {couple[1]}')\n",
    "else:\n",
    "    if len(boys) > len(girls):\n",
    "        print('Внимание! Парней больше чем девушек.')\n",
    "        print('Для', ', '.join(sorted(boys)[(len(girls) - len(boys)):]), 'не будет найдено подходящей пары')\n",
    "    else:\n",
    "        print('Внимание! Девушек больше чем парней.')\n",
    "        print('Для', ', '.join(sorted(girls)[len(boys) - len(girls):]), 'не будет найдено подходящей пары')"
   ]
  },
  {
   "cell_type": "code",
   "execution_count": 23,
   "metadata": {},
   "outputs": [
    {
     "name": "stdout",
     "output_type": "stream",
     "text": [
      "Внимание! Девушек больше чем парней.\n",
      "Для Liza, Trisha не будет найдено подходящей пары\n"
     ]
    }
   ],
   "source": [
    "boys = ['Peter', 'Alex', 'John', 'Arthur', 'Richard']\n",
    "girls = ['Kate', 'Liza', 'Kira', 'Emma', 'Trisha', 'Anna', 'Kate']\n",
    "\n",
    "couples = zip(sorted(boys), sorted(girls))\n",
    "if len(boys) == len(girls):\n",
    "    print('Идеальные пары:')\n",
    "    for couple in couples:\n",
    "        print(f'{couple[0]} и {couple[1]}')\n",
    "else:\n",
    "    if len(boys) > len(girls):\n",
    "        print('Внимание! Парней больше чем девушек.')\n",
    "        print('Для', ', '.join(sorted(boys)[(len(girls) - len(boys)):]), 'не будет найдено подходящей пары')\n",
    "    else:\n",
    "        print('Внимание! Девушек больше чем парней.')\n",
    "        print('Для', ', '.join(sorted(girls)[len(boys) - len(girls):]), 'не будет найдено подходящей пары')"
   ]
  },
  {
   "cell_type": "markdown",
   "metadata": {},
   "source": [
    "Выдвигаем гипотезу: лучшие рекомендации мы получим, если просто отсортируем имена по алфавиту и познакомим людей с одинаковыми индексами после сортировки! \"Познакомить\" пары нам поможет функция zip, а в цикле распакуем zip-объект и выведем информацию в виде:\n",
    "\n",
    "Идеальные пары:  \n",
    "Alex и Emma  \n",
    "Arthur и Kate  \n",
    "John и Kira  \n",
    "Peter и Liza  \n",
    "Richard и Trisha  "
   ]
  },
  {
   "cell_type": "markdown",
   "metadata": {},
   "source": [
    "**Внимание! Если количество людей в списках будет не совпадать, то мы никого знакомить не будет и выведем пользователю предупреждение, что кто-то может остаться без пары!**"
   ]
  },
  {
   "cell_type": "markdown",
   "metadata": {},
   "source": [
    "**Задача 3**. У нас есть список, содержащий информацию о среднедневной температуре в Фаренгейтах за недельный период по странам.\n",
    "Необходимо написать код, который рассчитает среднюю температуру за неделю в Цельсиях для каждой страны."
   ]
  },
  {
   "cell_type": "code",
   "execution_count": 18,
   "metadata": {},
   "outputs": [
    {
     "name": "stdout",
     "output_type": "stream",
     "text": [
      "Average week temperature in Thailand - 23.86 C\n",
      "Average week temperature in Germany - 13.71 C\n",
      "Average week temperature in Russia - 3.71 C\n",
      "Average week temperature in Poland - 11.86 C\n"
     ]
    }
   ],
   "source": [
    "countries_temperature = [\n",
    " ['Thailand', [75.2, 77, 78.8, 73.4, 68, 75.2, 77]],\n",
    " ['Germany', [57.2, 55.4, 59, 59, 53.6, 55.4, 57.2]],\n",
    " ['Russia', [35.6, 37.4, 39.2, 41, 42.8, 39.2, 35.6]],\n",
    " ['Poland', [50, 50, 53.6, 57.2, 55.4, 55.4, 51.8]],\n",
    "]\n",
    "\n",
    "for country_temperature in countries_temperature:\n",
    "    country = country_temperature[0]\n",
    "    average_temp_c = round((sum(country_temperature[1]) / len(country_temperature[1]) - 32) * (5 / 9), 2)\n",
    "    \n",
    "    print(f'Average week temperature in {country} - {average_temp_c} C')"
   ]
  },
  {
   "cell_type": "markdown",
   "metadata": {},
   "source": [
    "**Задача 4.** Дан поток логов по количеству просмотренных страниц для каждого пользователя. Список отсортирован по ID пользователя. Вам необходимо написать алгоритм, который считает среднее значение просмотров на пользователя. \n",
    "Т. е. надо посчитать отношение суммы всех просмотров к количеству уникальных пользователей."
   ]
  },
  {
   "cell_type": "code",
   "execution_count": 109,
   "metadata": {},
   "outputs": [
    {
     "name": "stdout",
     "output_type": "stream",
     "text": [
      "23.25\n"
     ]
    }
   ],
   "source": [
    "stream = [\n",
    "    '2018-01-01,user1,3',\n",
    "    '2018-01-07,user1,4',\n",
    "    '2018-03-29,user1,1',\n",
    "    '2018-04-04,user1,13',\n",
    "    '2018-01-05,user2,7',\n",
    "    '2018-06-14,user3,4',\n",
    "    '2018-07-02,user3,10',\n",
    "    '2018-03-21,user4,19',\n",
    "    '2018-03-22,user4,4',\n",
    "    '2018-04-22,user4,8',\n",
    "    '2018-05-03,user4,9',\n",
    "    '2018-05-11,user4,11',\n",
    "]\n",
    "sum_view = 0\n",
    "uniq_users = []\n",
    "for log in stream:\n",
    "    sum_view += int(log.split(',')[2])\n",
    "    if log.split(',')[1] not in uniq_users:\n",
    "        uniq_users.append(log.split(',')[1])\n",
    "    \n",
    "print(sum_view / len(uniq_users))    "
   ]
  },
  {
   "cell_type": "markdown",
   "metadata": {},
   "source": [
    "**Задача 5**. Дана статистика рекламных кампаний по дням. Напишите алгоритм, который по паре дата-кампания ищет значение численного столбца. \n",
    "Т. е. для даты '2018-01-01' и 'google' нужно получить число 25. \n",
    "Считайте, что все комбинации дата-кампания уникальны."
   ]
  },
  {
   "cell_type": "code",
   "execution_count": 25,
   "metadata": {},
   "outputs": [
    {
     "name": "stdout",
     "output_type": "stream",
     "text": [
      "Введите желаемую дату в формате YYYY-MM-DD: 2018-01-02\n",
      "Введите название компании: yandex\n",
      "Рекламная компания Yandex за 2018-01-02 составила 249\n"
     ]
    }
   ],
   "source": [
    "stats = [\n",
    "    ['2018-01-01', 'google', 25],\n",
    "    ['2018-01-01', 'yandex', 65],\n",
    "    ['2018-01-01', 'market', 89],\n",
    "    ['2018-01-02', 'google', 574],\n",
    "    ['2018-01-02', 'yandex', 249],\n",
    "    ['2018-01-02', 'market', 994],\n",
    "    ['2018-01-03', 'google', 1843],\n",
    "    ['2018-01-03', 'yandex', 1327],\n",
    "    ['2018-01-03', 'market', 1764],\n",
    "]\n",
    "input_date = input(\"Введите желаемую дату в формате YYYY-MM-DD: \")\n",
    "input_company = input('Введите название компании: ').lower()\n",
    "\n",
    "for log in stats:\n",
    "    if input_date == log[0] and input_company == log[1]:\n",
    "        print(f'Рекламная компания {log[1].capitalize()} за {log[0]} составила {log[2]}')\n"
   ]
  },
  {
   "cell_type": "markdown",
   "metadata": {},
   "source": [
    "**Задача 6**. Дан список вида:"
   ]
  },
  {
   "cell_type": "code",
   "execution_count": 24,
   "metadata": {},
   "outputs": [
    {
     "name": "stdout",
     "output_type": "stream",
     "text": [
      "103\n"
     ]
    }
   ],
   "source": [
    "data = [\n",
    "    [13, 25, 23, 34],\n",
    "    [45, 32, 44, 47],\n",
    "    [12, 33, 23, 95],\n",
    "    [13, 53, 34, 35]\n",
    "]\n",
    "\n",
    "matrix_size = len(data)\n",
    "sum_diagonal = 0\n",
    "index = 0\n",
    "while index <= matrix_size - 1:\n",
    "    for row in data:\n",
    "        sum_diagonal += row[index]\n",
    "        index += 1\n",
    "        \n",
    "print(sum_diagonal)"
   ]
  },
  {
   "cell_type": "markdown",
   "metadata": {},
   "source": [
    "Напишите код, который будет вычислять сумму элементов на диагонали. Т. е. 13+32+23+35.  \n",
    "Список может быть любой длины, но всегда является \"квадратным\" (количество элементов во вложенных списках равно их количеству)."
   ]
  }
 ],
 "metadata": {
  "kernelspec": {
   "display_name": "Python 3",
   "language": "python",
   "name": "python3"
  },
  "language_info": {
   "codemirror_mode": {
    "name": "ipython",
    "version": 3
   },
   "file_extension": ".py",
   "mimetype": "text/x-python",
   "name": "python",
   "nbconvert_exporter": "python",
   "pygments_lexer": "ipython3",
   "version": "3.7.6"
  }
 },
 "nbformat": 4,
 "nbformat_minor": 2
}
